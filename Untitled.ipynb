{
 "cells": [
  {
   "cell_type": "markdown",
   "id": "4b497246-7883-4072-9fc2-6afe4b9e16d2",
   "metadata": {},
   "source": [
    "#My Jupyter Notebook on IBM Watson Studio"
   ]
  },
  {
   "cell_type": "markdown",
   "id": "c7b5f074-afee-4141-8e00-9234a1316e18",
   "metadata": {},
   "source": [
    "__Sri Lakshmi S__\n",
    "Data Analyst"
   ]
  },
  {
   "cell_type": "markdown",
   "id": "e797274e-f416-4441-9be5-f622a8f51099",
   "metadata": {},
   "source": [
    "*I'm interested in Data Science because it's used to derive insight from data and its also a trending career I will get to work with AI, ML, DL, Big Data and many more. *"
   ]
  },
  {
   "cell_type": "markdown",
   "id": "f9a6da34-94f0-4124-8170-0bfba0953d2d",
   "metadata": {},
   "source": [
    "<h3> I have declared three variables a,b,c These are assigned numeric values 8,7,4 respectively. 'd' is the output variable which gives the result after summing the first two variables followed subtracting the third value. </h3>"
   ]
  },
  {
   "cell_type": "code",
   "execution_count": 1,
   "id": "bdf24cfd-a8f8-4a4a-b641-a77b52d840f4",
   "metadata": {},
   "outputs": [
    {
     "name": "stdout",
     "output_type": "stream",
     "text": [
      "11\n"
     ]
    }
   ],
   "source": [
    "a=8\n",
    "b=7\n",
    "c=4\n",
    "d=(a+b)-c\n",
    "print(d)"
   ]
  },
  {
   "cell_type": "markdown",
   "id": "675b9f17-401c-4398-9884-1c78284fc785",
   "metadata": {},
   "source": [
    "~~Scratch me~~\n",
    "\n",
    ">Fruits\n",
    ">>Apples\n",
    ">>>Red color\n",
    "\n",
    "[click me](https://en.wikipedia.org \"Wikipedia\")\n",
    "\n",
    "- Apple\n",
    "- Mango\n",
    "- Strawberry\n",
    "\n",
    ">This is sample text\n",
    "\n",
    "|Fruit |Color |\n",
    "|:-|:-|\n",
    "|Apple |Red |\n",
    "|Mango |Yellow |\n",
    "|Orange |Orange|"
   ]
  },
  {
   "cell_type": "code",
   "execution_count": null,
   "id": "e9f33f3f-ecca-4a7b-812f-461f943f744c",
   "metadata": {},
   "outputs": [],
   "source": []
  }
 ],
 "metadata": {
  "kernelspec": {
   "display_name": "Python",
   "language": "python",
   "name": "conda-env-python-py"
  },
  "language_info": {
   "codemirror_mode": {
    "name": "ipython",
    "version": 3
   },
   "file_extension": ".py",
   "mimetype": "text/x-python",
   "name": "python",
   "nbconvert_exporter": "python",
   "pygments_lexer": "ipython3",
   "version": "3.7.12"
  }
 },
 "nbformat": 4,
 "nbformat_minor": 5
}
